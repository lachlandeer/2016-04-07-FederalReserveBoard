{
  "nbformat": 4,
  "nbformat_minor": 0,
  "metadata": {
    "colab": {
      "name": "action_cleaner.ipynb",
      "provenance": [],
      "authorship_tag": "ABX9TyPTudil6h4xcmjkR52Q1MSA",
      "include_colab_link": true
    },
    "kernelspec": {
      "name": "python3",
      "display_name": "Python 3"
    }
  },
  "cells": [
    {
      "cell_type": "markdown",
      "metadata": {
        "id": "view-in-github",
        "colab_type": "text"
      },
      "source": [
        "<a href=\"https://colab.research.google.com/github/lachlandeer/2016-04-07-FederalReserveBoard/blob/FirstLoad/action_cleaner.ipynb\" target=\"_parent\"><img src=\"https://colab.research.google.com/assets/colab-badge.svg\" alt=\"Open In Colab\"/></a>"
      ]
    },
    {
      "cell_type": "code",
      "metadata": {
        "id": "s8M8PQtnGK7X"
      },
      "source": [
        "import pandas as pd"
      ],
      "execution_count": 1,
      "outputs": []
    },
    {
      "cell_type": "code",
      "metadata": {
        "id": "_7vLVN0BGR1O"
      },
      "source": [
        "from google.colab import auth\n",
        "auth.authenticate_user()"
      ],
      "execution_count": 2,
      "outputs": []
    },
    {
      "cell_type": "markdown",
      "metadata": {
        "id": "sr5EnGSAGdbx"
      },
      "source": [
        "## Get Data From Google Cloud Storage"
      ]
    },
    {
      "cell_type": "code",
      "metadata": {
        "id": "u2ZbQewWGSnq"
      },
      "source": [
        "project_id = 'egypt-riot-network'"
      ],
      "execution_count": 3,
      "outputs": []
    },
    {
      "cell_type": "code",
      "metadata": {
        "id": "Dzxn2_O3GlRM",
        "outputId": "a6598097-bd1c-472c-f03e-8464c6590cc0",
        "colab": {
          "base_uri": "https://localhost:8080/"
        }
      },
      "source": [
        "!gcloud config set project {project_id}\n",
        "!gsutil ls"
      ],
      "execution_count": 4,
      "outputs": [
        {
          "output_type": "stream",
          "text": [
            "Updated property [core/project].\n",
            "gs://egypt-riot-network/\n"
          ],
          "name": "stdout"
        }
      ]
    },
    {
      "cell_type": "code",
      "metadata": {
        "id": "DnyXA-GiGlmx"
      },
      "source": [
        "!mkdir data\n"
      ],
      "execution_count": 5,
      "outputs": []
    },
    {
      "cell_type": "code",
      "metadata": {
        "id": "UkocQzSzGoww",
        "outputId": "a6b4bbf3-c43e-44de-f5c9-7199e96100f8",
        "colab": {
          "base_uri": "https://localhost:8080/"
        }
      },
      "source": [
        "!gsutil cp gs://egypt-riot-network/src_data/action_training/* data/."
      ],
      "execution_count": 7,
      "outputs": [
        {
          "output_type": "stream",
          "text": [
            "Copying gs://egypt-riot-network/src_data/action_training/action_coder_01.xls...\n",
            "Copying gs://egypt-riot-network/src_data/action_training/translations_coder2_ARJUN.xls...\n",
            "\\ [2 files][  7.8 MiB/  7.8 MiB]                                                \n",
            "Operation completed over 2 objects/7.8 MiB.                                      \n"
          ],
          "name": "stdout"
        }
      ]
    },
    {
      "cell_type": "code",
      "metadata": {
        "id": "g-kmMXIHHicm",
        "outputId": "f218a0a6-f35d-4601-8b55-00c52e2a4524",
        "colab": {
          "base_uri": "https://localhost:8080/"
        }
      },
      "source": [
        "!ls data"
      ],
      "execution_count": 9,
      "outputs": [
        {
          "output_type": "stream",
          "text": [
            "action_coder_01.xls  translations_coder2_ARJUN.xls\n"
          ],
          "name": "stdout"
        }
      ]
    },
    {
      "cell_type": "markdown",
      "metadata": {
        "id": "dXU3NMcMHSjS"
      },
      "source": [
        "## Read in Data"
      ]
    },
    {
      "cell_type": "code",
      "metadata": {
        "id": "JUrasb6kHRvY"
      },
      "source": [
        "df_1 = pd.read_excel('data/action_coder_01.xls')\n",
        "df_2 = pd.read_excel('data/translations_coder2_ARJUN.xls')"
      ],
      "execution_count": 10,
      "outputs": []
    },
    {
      "cell_type": "code",
      "metadata": {
        "id": "eLDIKleDGy6f"
      },
      "source": [
        "cols_keep = ['tweet_id', 'tweet', 'classification']\n",
        "df_1 = df_1[cols_keep]\n",
        "df_2 = df_2[cols_keep]"
      ],
      "execution_count": 11,
      "outputs": []
    },
    {
      "cell_type": "code",
      "metadata": {
        "id": "lZOwzipaHxsA"
      },
      "source": [
        "# add col to identify coder\n",
        "df_1['coder'] = 'coder_01'\n",
        "df_2['coder'] = 'coder_02'"
      ],
      "execution_count": 12,
      "outputs": []
    },
    {
      "cell_type": "code",
      "metadata": {
        "id": "UFbe1WAeH373"
      },
      "source": [
        "df_1[\"classification\"] = df_1[\"classification\"].astype('category')\n",
        "df_2[\"classification\"] = df_2[\"classification\"].astype('category')"
      ],
      "execution_count": 13,
      "outputs": []
    },
    {
      "cell_type": "code",
      "metadata": {
        "id": "Im-Y4DjwIAjK"
      },
      "source": [
        ""
      ],
      "execution_count": null,
      "outputs": []
    },
    {
      "cell_type": "markdown",
      "metadata": {
        "id": "zzd4IdPLIJBH"
      },
      "source": [
        "## Collect aggregate dataframe to classify"
      ]
    },
    {
      "cell_type": "code",
      "metadata": {
        "id": "ZL0Qn4GyIAll"
      },
      "source": [
        "# we use all of coder 1's classifications, and those by coder 2 which coder 1 didn't classify\n",
        "agg_df = pd.merge(\n",
        "                    df_1, df_2,\n",
        "                    how='outer', \n",
        "                    on='tweet_id', \n",
        "                    indicator=True, \n",
        "                    suffixes=('_foo','')\n",
        "                    )"
      ],
      "execution_count": 15,
      "outputs": []
    },
    {
      "cell_type": "code",
      "metadata": {
        "id": "7NwiOk7HIApt",
        "outputId": "5923e430-42de-45c0-b7d5-0d636316f7b3",
        "colab": {
          "base_uri": "https://localhost:8080/",
          "height": 204
        }
      },
      "source": [
        "agg_df.head()"
      ],
      "execution_count": 16,
      "outputs": [
        {
          "output_type": "execute_result",
          "data": {
            "text/html": [
              "<div>\n",
              "<style scoped>\n",
              "    .dataframe tbody tr th:only-of-type {\n",
              "        vertical-align: middle;\n",
              "    }\n",
              "\n",
              "    .dataframe tbody tr th {\n",
              "        vertical-align: top;\n",
              "    }\n",
              "\n",
              "    .dataframe thead th {\n",
              "        text-align: right;\n",
              "    }\n",
              "</style>\n",
              "<table border=\"1\" class=\"dataframe\">\n",
              "  <thead>\n",
              "    <tr style=\"text-align: right;\">\n",
              "      <th></th>\n",
              "      <th>tweet_id</th>\n",
              "      <th>tweet_foo</th>\n",
              "      <th>classification_foo</th>\n",
              "      <th>tweet</th>\n",
              "      <th>classification</th>\n",
              "      <th>_merge</th>\n",
              "    </tr>\n",
              "  </thead>\n",
              "  <tbody>\n",
              "    <tr>\n",
              "      <th>0</th>\n",
              "      <td>359447956342046720</td>\n",
              "      <td>بيقولك البلتاجي خاف يعين وزير دفاع لاشارة رابع...</td>\n",
              "      <td>PRO_INTERVENTION</td>\n",
              "      <td>NaN</td>\n",
              "      <td>NaN</td>\n",
              "      <td>left_only</td>\n",
              "    </tr>\n",
              "    <tr>\n",
              "      <th>1</th>\n",
              "      <td>365115804276105216</td>\n",
              "      <td>الببلاوي: قرار فض اعتصامي رابعة والنهضة نهائي ...</td>\n",
              "      <td>PRO_INTERVENTION</td>\n",
              "      <td>NaN</td>\n",
              "      <td>NaN</td>\n",
              "      <td>left_only</td>\n",
              "    </tr>\n",
              "    <tr>\n",
              "      <th>2</th>\n",
              "      <td>354583432807985152</td>\n",
              "      <td>رئاسة الجمهورية تعرض على دكتور حازم الببلاوى م...</td>\n",
              "      <td>IRRELEVANT</td>\n",
              "      <td>NaN</td>\n",
              "      <td>NaN</td>\n",
              "      <td>left_only</td>\n",
              "    </tr>\n",
              "    <tr>\n",
              "      <th>3</th>\n",
              "      <td>356152710241861632</td>\n",
              "      <td>@Dr_FAlShaiji دكتوره فاطمه رأيك في خطوه الجيش ...</td>\n",
              "      <td>NEUTRAL</td>\n",
              "      <td>NaN</td>\n",
              "      <td>NaN</td>\n",
              "      <td>left_only</td>\n",
              "    </tr>\n",
              "    <tr>\n",
              "      <th>4</th>\n",
              "      <td>357964339187167232</td>\n",
              "      <td>قلت له أكيد سباك قالي مرسي دكتور مش هيعرف يصلح...</td>\n",
              "      <td>PRO_INTERVENTION</td>\n",
              "      <td>NaN</td>\n",
              "      <td>NaN</td>\n",
              "      <td>left_only</td>\n",
              "    </tr>\n",
              "  </tbody>\n",
              "</table>\n",
              "</div>"
            ],
            "text/plain": [
              "             tweet_id  ...     _merge\n",
              "0  359447956342046720  ...  left_only\n",
              "1  365115804276105216  ...  left_only\n",
              "2  354583432807985152  ...  left_only\n",
              "3  356152710241861632  ...  left_only\n",
              "4  357964339187167232  ...  left_only\n",
              "\n",
              "[5 rows x 6 columns]"
            ]
          },
          "metadata": {
            "tags": []
          },
          "execution_count": 16
        }
      ]
    },
    {
      "cell_type": "code",
      "metadata": {
        "id": "WOCjfGESIq6h"
      },
      "source": [
        "coder2_only = agg_df.query('_merge == \"right_only\"')\n",
        "coder2_only = coder2_only[cols_keep]"
      ],
      "execution_count": 17,
      "outputs": []
    },
    {
      "cell_type": "markdown",
      "metadata": {
        "id": "drapH6X5JExZ"
      },
      "source": [
        "combine coder 1 and the coder 2 only data to one dataset"
      ]
    },
    {
      "cell_type": "code",
      "metadata": {
        "id": "DiBQfeTDI3Eo"
      },
      "source": [
        "df = pd.concat([df_1, coder2_only])"
      ],
      "execution_count": 19,
      "outputs": []
    },
    {
      "cell_type": "code",
      "metadata": {
        "id": "nMMvsDpcKAxX",
        "outputId": "2ab6074e-33bf-4f14-b422-d8fba79fcf13",
        "colab": {
          "base_uri": "https://localhost:8080/",
          "height": 204
        }
      },
      "source": [
        "df.head()"
      ],
      "execution_count": 23,
      "outputs": [
        {
          "output_type": "execute_result",
          "data": {
            "text/html": [
              "<div>\n",
              "<style scoped>\n",
              "    .dataframe tbody tr th:only-of-type {\n",
              "        vertical-align: middle;\n",
              "    }\n",
              "\n",
              "    .dataframe tbody tr th {\n",
              "        vertical-align: top;\n",
              "    }\n",
              "\n",
              "    .dataframe thead th {\n",
              "        text-align: right;\n",
              "    }\n",
              "</style>\n",
              "<table border=\"1\" class=\"dataframe\">\n",
              "  <thead>\n",
              "    <tr style=\"text-align: right;\">\n",
              "      <th></th>\n",
              "      <th>tweet_id</th>\n",
              "      <th>tweet</th>\n",
              "      <th>classification</th>\n",
              "    </tr>\n",
              "  </thead>\n",
              "  <tbody>\n",
              "    <tr>\n",
              "      <th>0</th>\n",
              "      <td>359447956342046720</td>\n",
              "      <td>بيقولك البلتاجي خاف يعين وزير دفاع لاشارة رابع...</td>\n",
              "      <td>PRO_INTERVENTION</td>\n",
              "    </tr>\n",
              "    <tr>\n",
              "      <th>1</th>\n",
              "      <td>365115804276105216</td>\n",
              "      <td>الببلاوي: قرار فض اعتصامي رابعة والنهضة نهائي ...</td>\n",
              "      <td>PRO_INTERVENTION</td>\n",
              "    </tr>\n",
              "    <tr>\n",
              "      <th>2</th>\n",
              "      <td>354583432807985152</td>\n",
              "      <td>رئاسة الجمهورية تعرض على دكتور حازم الببلاوى م...</td>\n",
              "      <td>IRRELEVANT</td>\n",
              "    </tr>\n",
              "    <tr>\n",
              "      <th>3</th>\n",
              "      <td>356152710241861632</td>\n",
              "      <td>@Dr_FAlShaiji دكتوره فاطمه رأيك في خطوه الجيش ...</td>\n",
              "      <td>NEUTRAL</td>\n",
              "    </tr>\n",
              "    <tr>\n",
              "      <th>4</th>\n",
              "      <td>357964339187167232</td>\n",
              "      <td>قلت له أكيد سباك قالي مرسي دكتور مش هيعرف يصلح...</td>\n",
              "      <td>PRO_INTERVENTION</td>\n",
              "    </tr>\n",
              "  </tbody>\n",
              "</table>\n",
              "</div>"
            ],
            "text/plain": [
              "             tweet_id  ...    classification\n",
              "0  359447956342046720  ...  PRO_INTERVENTION\n",
              "1  365115804276105216  ...  PRO_INTERVENTION\n",
              "2  354583432807985152  ...        IRRELEVANT\n",
              "3  356152710241861632  ...           NEUTRAL\n",
              "4  357964339187167232  ...  PRO_INTERVENTION\n",
              "\n",
              "[5 rows x 3 columns]"
            ]
          },
          "metadata": {
            "tags": []
          },
          "execution_count": 23
        }
      ]
    },
    {
      "cell_type": "code",
      "metadata": {
        "id": "JSpeBUrlKeAg",
        "outputId": "da54a8f2-011b-4b54-b0ec-9de9b73aeb14",
        "colab": {
          "base_uri": "https://localhost:8080/"
        }
      },
      "source": [
        "df.shape"
      ],
      "execution_count": 25,
      "outputs": [
        {
          "output_type": "execute_result",
          "data": {
            "text/plain": [
              "(5406, 3)"
            ]
          },
          "metadata": {
            "tags": []
          },
          "execution_count": 25
        }
      ]
    },
    {
      "cell_type": "markdown",
      "metadata": {
        "id": "isjGwkPaKUay"
      },
      "source": [
        "## Restrict data to binary classification\n",
        "\n",
        "We only want tweets that are pro or anti-intervention"
      ]
    },
    {
      "cell_type": "code",
      "metadata": {
        "id": "2ir9UMGFKTha"
      },
      "source": [
        "df = df.query('classification == \"PRO_INTERVENTION\"  \\\n",
        "         or classification == \"ANTI_INTERVENTION\"')"
      ],
      "execution_count": 24,
      "outputs": []
    },
    {
      "cell_type": "code",
      "metadata": {
        "id": "vokeY_cwKkXI",
        "outputId": "2546d9d7-7459-47c1-8d31-4130c6906868",
        "colab": {
          "base_uri": "https://localhost:8080/",
          "height": 204
        }
      },
      "source": [
        "df.head()"
      ],
      "execution_count": 28,
      "outputs": [
        {
          "output_type": "execute_result",
          "data": {
            "text/html": [
              "<div>\n",
              "<style scoped>\n",
              "    .dataframe tbody tr th:only-of-type {\n",
              "        vertical-align: middle;\n",
              "    }\n",
              "\n",
              "    .dataframe tbody tr th {\n",
              "        vertical-align: top;\n",
              "    }\n",
              "\n",
              "    .dataframe thead th {\n",
              "        text-align: right;\n",
              "    }\n",
              "</style>\n",
              "<table border=\"1\" class=\"dataframe\">\n",
              "  <thead>\n",
              "    <tr style=\"text-align: right;\">\n",
              "      <th></th>\n",
              "      <th>tweet_id</th>\n",
              "      <th>tweet</th>\n",
              "      <th>classification</th>\n",
              "    </tr>\n",
              "  </thead>\n",
              "  <tbody>\n",
              "    <tr>\n",
              "      <th>0</th>\n",
              "      <td>359447956342046720</td>\n",
              "      <td>بيقولك البلتاجي خاف يعين وزير دفاع لاشارة رابع...</td>\n",
              "      <td>PRO_INTERVENTION</td>\n",
              "    </tr>\n",
              "    <tr>\n",
              "      <th>1</th>\n",
              "      <td>365115804276105216</td>\n",
              "      <td>الببلاوي: قرار فض اعتصامي رابعة والنهضة نهائي ...</td>\n",
              "      <td>PRO_INTERVENTION</td>\n",
              "    </tr>\n",
              "    <tr>\n",
              "      <th>4</th>\n",
              "      <td>357964339187167232</td>\n",
              "      <td>قلت له أكيد سباك قالي مرسي دكتور مش هيعرف يصلح...</td>\n",
              "      <td>PRO_INTERVENTION</td>\n",
              "    </tr>\n",
              "    <tr>\n",
              "      <th>6</th>\n",
              "      <td>382792082588700672</td>\n",
              "      <td>#شعر انا راسي مرسى الحقايق من الأوهام/ ماأرد ا...</td>\n",
              "      <td>ANTI_INTERVENTION</td>\n",
              "    </tr>\n",
              "    <tr>\n",
              "      <th>7</th>\n",
              "      <td>351666260666355712</td>\n",
              "      <td>استقالة وزير السياحة، وزير الاتصالات، وزير الب...</td>\n",
              "      <td>PRO_INTERVENTION</td>\n",
              "    </tr>\n",
              "  </tbody>\n",
              "</table>\n",
              "</div>"
            ],
            "text/plain": [
              "             tweet_id  ...     classification\n",
              "0  359447956342046720  ...   PRO_INTERVENTION\n",
              "1  365115804276105216  ...   PRO_INTERVENTION\n",
              "4  357964339187167232  ...   PRO_INTERVENTION\n",
              "6  382792082588700672  ...  ANTI_INTERVENTION\n",
              "7  351666260666355712  ...   PRO_INTERVENTION\n",
              "\n",
              "[5 rows x 3 columns]"
            ]
          },
          "metadata": {
            "tags": []
          },
          "execution_count": 28
        }
      ]
    },
    {
      "cell_type": "code",
      "metadata": {
        "id": "dx2mFPXrKfmt",
        "outputId": "1b22ceb2-bb83-49b7-9409-e8a8a0481647",
        "colab": {
          "base_uri": "https://localhost:8080/"
        }
      },
      "source": [
        "df.shape"
      ],
      "execution_count": 29,
      "outputs": [
        {
          "output_type": "execute_result",
          "data": {
            "text/plain": [
              "(5406, 3)"
            ]
          },
          "metadata": {
            "tags": []
          },
          "execution_count": 29
        }
      ]
    },
    {
      "cell_type": "code",
      "metadata": {
        "id": "jbnr7W7bKxZ5",
        "outputId": "1faf8a09-3648-42ca-e709-bf52a30fb93f",
        "colab": {
          "base_uri": "https://localhost:8080/"
        }
      },
      "source": [
        "df.classification.unique()"
      ],
      "execution_count": 30,
      "outputs": [
        {
          "output_type": "execute_result",
          "data": {
            "text/plain": [
              "['PRO_INTERVENTION', 'ANTI_INTERVENTION']\n",
              "Categories (2, object): ['PRO_INTERVENTION', 'ANTI_INTERVENTION']"
            ]
          },
          "metadata": {
            "tags": []
          },
          "execution_count": 30
        }
      ]
    },
    {
      "cell_type": "code",
      "metadata": {
        "id": "CgMaDZ6rLD0G",
        "outputId": "9ddeecaa-652f-4b86-bbf2-3139b5d0c922",
        "colab": {
          "base_uri": "https://localhost:8080/"
        }
      },
      "source": [
        "df.groupby(['classification']).size()\n"
      ],
      "execution_count": 31,
      "outputs": [
        {
          "output_type": "execute_result",
          "data": {
            "text/plain": [
              "classification\n",
              "ANTI_INTERVENTION    3331\n",
              "BAD_RECORD              0\n",
              "IRRELEVANT              0\n",
              "NEUTRAL                 0\n",
              "PRO_INTERVENTION     2075\n",
              "dtype: int64"
            ]
          },
          "metadata": {
            "tags": []
          },
          "execution_count": 31
        }
      ]
    },
    {
      "cell_type": "markdown",
      "metadata": {
        "id": "pzCOsu75JWHA"
      },
      "source": [
        "## Save data to csv"
      ]
    },
    {
      "cell_type": "code",
      "metadata": {
        "id": "PnDMEBnoJckx"
      },
      "source": [
        "!mkdir out_data"
      ],
      "execution_count": 20,
      "outputs": []
    },
    {
      "cell_type": "code",
      "metadata": {
        "id": "Unj9gEfnJGio"
      },
      "source": [
        "df.to_csv('out_data/action_handcoded_all.csv')"
      ],
      "execution_count": 21,
      "outputs": []
    },
    {
      "cell_type": "markdown",
      "metadata": {
        "id": "Flsdq8UaJrMZ"
      },
      "source": [
        "## Also create a balanced sample and save"
      ]
    },
    {
      "cell_type": "code",
      "metadata": {
        "id": "TKA34u_cJ1E1",
        "outputId": "3d859a4e-2d43-4abd-8221-480a7e5fbf75",
        "colab": {
          "base_uri": "https://localhost:8080/"
        }
      },
      "source": [
        "!pip install imblearn\n"
      ],
      "execution_count": 22,
      "outputs": [
        {
          "output_type": "stream",
          "text": [
            "Requirement already satisfied: imblearn in /usr/local/lib/python3.6/dist-packages (0.0)\n",
            "Requirement already satisfied: imbalanced-learn in /usr/local/lib/python3.6/dist-packages (from imblearn) (0.4.3)\n",
            "Requirement already satisfied: scipy>=0.13.3 in /usr/local/lib/python3.6/dist-packages (from imbalanced-learn->imblearn) (1.4.1)\n",
            "Requirement already satisfied: scikit-learn>=0.20 in /usr/local/lib/python3.6/dist-packages (from imbalanced-learn->imblearn) (0.22.2.post1)\n",
            "Requirement already satisfied: numpy>=1.8.2 in /usr/local/lib/python3.6/dist-packages (from imbalanced-learn->imblearn) (1.18.5)\n",
            "Requirement already satisfied: joblib>=0.11 in /usr/local/lib/python3.6/dist-packages (from scikit-learn>=0.20->imbalanced-learn->imblearn) (0.17.0)\n"
          ],
          "name": "stdout"
        }
      ]
    },
    {
      "cell_type": "code",
      "metadata": {
        "id": "GkFoSWR0J1HP",
        "outputId": "4b1af8c7-9c5d-495c-e9ee-5ef1760ed823",
        "colab": {
          "base_uri": "https://localhost:8080/"
        }
      },
      "source": [
        "from imblearn.under_sampling import RandomUnderSampler\n",
        "\n",
        "rus = RandomUnderSampler(sampling_strategy = 'not minority', random_state = 123456789)"
      ],
      "execution_count": 32,
      "outputs": [
        {
          "output_type": "stream",
          "text": [
            "/usr/local/lib/python3.6/dist-packages/sklearn/externals/six.py:31: FutureWarning: The module is deprecated in version 0.21 and will be removed in version 0.23 since we've dropped support for Python 2.7. Please rely on the official version of six (https://pypi.org/project/six/).\n",
            "  \"(https://pypi.org/project/six/).\", FutureWarning)\n",
            "/usr/local/lib/python3.6/dist-packages/sklearn/utils/deprecation.py:144: FutureWarning: The sklearn.neighbors.base module is  deprecated in version 0.22 and will be removed in version 0.24. The corresponding classes / functions should instead be imported from sklearn.neighbors. Anything that cannot be imported from sklearn.neighbors is now part of the private API.\n",
            "  warnings.warn(message, FutureWarning)\n"
          ],
          "name": "stderr"
        }
      ]
    },
    {
      "cell_type": "code",
      "metadata": {
        "id": "3Vklb1BNJ1Ld",
        "outputId": "f019662d-f191-445e-86a9-fd025dd63cd5",
        "colab": {
          "base_uri": "https://localhost:8080/"
        }
      },
      "source": [
        "df_balanced, balanced_labels = rus.fit_resample(df, df['classification'])"
      ],
      "execution_count": 34,
      "outputs": [
        {
          "output_type": "stream",
          "text": [
            "/usr/local/lib/python3.6/dist-packages/sklearn/utils/deprecation.py:87: FutureWarning: Function safe_indexing is deprecated; safe_indexing is deprecated in version 0.22 and will be removed in version 0.24.\n",
            "  warnings.warn(msg, category=FutureWarning)\n"
          ],
          "name": "stderr"
        }
      ]
    },
    {
      "cell_type": "code",
      "metadata": {
        "id": "dmoxpYqrJ1OQ"
      },
      "source": [
        "## convert back to dataframe\n",
        "\n",
        "df_balanced_pd = pd.DataFrame(data = df_balanced, \n",
        "                              columns= cols_keep\n",
        "                              )"
      ],
      "execution_count": 35,
      "outputs": []
    },
    {
      "cell_type": "code",
      "metadata": {
        "id": "gKk1nKnuJ1P8",
        "outputId": "9cbb405b-24d6-44c3-c5fc-53bc466a12c1",
        "colab": {
          "base_uri": "https://localhost:8080/",
          "height": 204
        }
      },
      "source": [
        "df_balanced_pd.head()"
      ],
      "execution_count": 36,
      "outputs": [
        {
          "output_type": "execute_result",
          "data": {
            "text/html": [
              "<div>\n",
              "<style scoped>\n",
              "    .dataframe tbody tr th:only-of-type {\n",
              "        vertical-align: middle;\n",
              "    }\n",
              "\n",
              "    .dataframe tbody tr th {\n",
              "        vertical-align: top;\n",
              "    }\n",
              "\n",
              "    .dataframe thead th {\n",
              "        text-align: right;\n",
              "    }\n",
              "</style>\n",
              "<table border=\"1\" class=\"dataframe\">\n",
              "  <thead>\n",
              "    <tr style=\"text-align: right;\">\n",
              "      <th></th>\n",
              "      <th>tweet_id</th>\n",
              "      <th>tweet</th>\n",
              "      <th>classification</th>\n",
              "    </tr>\n",
              "  </thead>\n",
              "  <tbody>\n",
              "    <tr>\n",
              "      <th>0</th>\n",
              "      <td>353152423960907776</td>\n",
              "      <td>لو كان هدفك الأسمى مش انقلاب ليه جيت على إرادت...</td>\n",
              "      <td>ANTI_INTERVENTION</td>\n",
              "    </tr>\n",
              "    <tr>\n",
              "      <th>1</th>\n",
              "      <td>359969196932743168</td>\n",
              "      <td>وهو وافق عليها ورغم كده انقلبت يا كذاب RT @aa_...</td>\n",
              "      <td>ANTI_INTERVENTION</td>\n",
              "    </tr>\n",
              "    <tr>\n",
              "      <th>2</th>\n",
              "      <td>381856132873977920</td>\n",
              "      <td>على جمعه يتهم الاخوان بتعليم ابنائهم التكفير ا...</td>\n",
              "      <td>ANTI_INTERVENTION</td>\n",
              "    </tr>\n",
              "    <tr>\n",
              "      <th>3</th>\n",
              "      <td>382257999047163904</td>\n",
              "      <td>ابتسم:جون ماكين لعمرو أديب: ماحصل انقلاب؛انت ل...</td>\n",
              "      <td>ANTI_INTERVENTION</td>\n",
              "    </tr>\n",
              "    <tr>\n",
              "      <th>4</th>\n",
              "      <td>367720317554544640</td>\n",
              "      <td>@TheArabHash  #هولوكست_السيسي    #فرعون_وجنوده</td>\n",
              "      <td>ANTI_INTERVENTION</td>\n",
              "    </tr>\n",
              "  </tbody>\n",
              "</table>\n",
              "</div>"
            ],
            "text/plain": [
              "             tweet_id  ...     classification\n",
              "0  353152423960907776  ...  ANTI_INTERVENTION\n",
              "1  359969196932743168  ...  ANTI_INTERVENTION\n",
              "2  381856132873977920  ...  ANTI_INTERVENTION\n",
              "3  382257999047163904  ...  ANTI_INTERVENTION\n",
              "4  367720317554544640  ...  ANTI_INTERVENTION\n",
              "\n",
              "[5 rows x 3 columns]"
            ]
          },
          "metadata": {
            "tags": []
          },
          "execution_count": 36
        }
      ]
    },
    {
      "cell_type": "code",
      "metadata": {
        "id": "xVKeYmY_Li3D"
      },
      "source": [
        "df.to_csv('out_data/action_handcoded_balanced.csv')"
      ],
      "execution_count": 37,
      "outputs": []
    },
    {
      "cell_type": "code",
      "metadata": {
        "id": "y8Fd820RJhRo",
        "outputId": "9875dffc-bcdf-42ac-983e-d078664203e9",
        "colab": {
          "base_uri": "https://localhost:8080/"
        }
      },
      "source": [
        "!gsutil cp out_data/*.csv gs://egypt-riot-network/out/data/actions/"
      ],
      "execution_count": 39,
      "outputs": [
        {
          "output_type": "stream",
          "text": [
            "Copying file://out_data/action_handcoded_all.csv [Content-Type=text/csv]...\n",
            "Copying file://out_data/action_handcoded_balanced.csv [Content-Type=text/csv]...\n",
            "\\\n",
            "Operation completed over 2 objects/3.5 MiB.                                      \n"
          ],
          "name": "stdout"
        }
      ]
    },
    {
      "cell_type": "code",
      "metadata": {
        "id": "GNnt_GFNLyA1"
      },
      "source": [
        ""
      ],
      "execution_count": null,
      "outputs": []
    }
  ]
}